{
 "cells": [
  {
   "cell_type": "markdown",
   "metadata": {},
   "source": [
    "# Do not delete any row from this dataset\n",
    "\n",
    "### Write df = df.fillna(0) instead"
   ]
  },
  {
   "cell_type": "code",
   "execution_count": 1,
   "metadata": {},
   "outputs": [],
   "source": [
    "import pandas as pd\n",
    "import matplotlib.pyplot as plt"
   ]
  },
  {
   "cell_type": "code",
   "execution_count": 2,
   "metadata": {},
   "outputs": [],
   "source": [
    "df = pd.read_csv('country_vaccinations.csv')\n",
    "df = df.fillna(0)"
   ]
  },
  {
   "cell_type": "code",
   "execution_count": 3,
   "metadata": {},
   "outputs": [
    {
     "data": {
      "text/html": [
       "<div>\n",
       "<style scoped>\n",
       "    .dataframe tbody tr th:only-of-type {\n",
       "        vertical-align: middle;\n",
       "    }\n",
       "\n",
       "    .dataframe tbody tr th {\n",
       "        vertical-align: top;\n",
       "    }\n",
       "\n",
       "    .dataframe thead th {\n",
       "        text-align: right;\n",
       "    }\n",
       "</style>\n",
       "<table border=\"1\" class=\"dataframe\">\n",
       "  <thead>\n",
       "    <tr style=\"text-align: right;\">\n",
       "      <th></th>\n",
       "      <th>country</th>\n",
       "      <th>iso_code</th>\n",
       "      <th>date</th>\n",
       "      <th>total_vaccinations</th>\n",
       "      <th>people_vaccinated</th>\n",
       "      <th>people_fully_vaccinated</th>\n",
       "      <th>daily_vaccinations_raw</th>\n",
       "      <th>daily_vaccinations</th>\n",
       "      <th>total_vaccinations_per_hundred</th>\n",
       "      <th>people_vaccinated_per_hundred</th>\n",
       "      <th>people_fully_vaccinated_per_hundred</th>\n",
       "      <th>daily_vaccinations_per_million</th>\n",
       "      <th>vaccines</th>\n",
       "      <th>source_name</th>\n",
       "      <th>source_website</th>\n",
       "    </tr>\n",
       "  </thead>\n",
       "  <tbody>\n",
       "    <tr>\n",
       "      <th>0</th>\n",
       "      <td>Afghanistan</td>\n",
       "      <td>AFG</td>\n",
       "      <td>2021-02-22</td>\n",
       "      <td>0.0</td>\n",
       "      <td>0.0</td>\n",
       "      <td>0.0</td>\n",
       "      <td>0.0</td>\n",
       "      <td>0.0</td>\n",
       "      <td>0.00</td>\n",
       "      <td>0.00</td>\n",
       "      <td>0.00</td>\n",
       "      <td>0.0</td>\n",
       "      <td>Oxford/AstraZeneca</td>\n",
       "      <td>Government of Afghanistan</td>\n",
       "      <td>https://reliefweb.int/report/afghanistan/afgha...</td>\n",
       "    </tr>\n",
       "    <tr>\n",
       "      <th>1</th>\n",
       "      <td>Afghanistan</td>\n",
       "      <td>AFG</td>\n",
       "      <td>2021-02-23</td>\n",
       "      <td>0.0</td>\n",
       "      <td>0.0</td>\n",
       "      <td>0.0</td>\n",
       "      <td>0.0</td>\n",
       "      <td>1367.0</td>\n",
       "      <td>0.00</td>\n",
       "      <td>0.00</td>\n",
       "      <td>0.00</td>\n",
       "      <td>35.0</td>\n",
       "      <td>Oxford/AstraZeneca</td>\n",
       "      <td>Government of Afghanistan</td>\n",
       "      <td>https://reliefweb.int/report/afghanistan/afgha...</td>\n",
       "    </tr>\n",
       "    <tr>\n",
       "      <th>2</th>\n",
       "      <td>Afghanistan</td>\n",
       "      <td>AFG</td>\n",
       "      <td>2021-02-24</td>\n",
       "      <td>0.0</td>\n",
       "      <td>0.0</td>\n",
       "      <td>0.0</td>\n",
       "      <td>0.0</td>\n",
       "      <td>1367.0</td>\n",
       "      <td>0.00</td>\n",
       "      <td>0.00</td>\n",
       "      <td>0.00</td>\n",
       "      <td>35.0</td>\n",
       "      <td>Oxford/AstraZeneca</td>\n",
       "      <td>Government of Afghanistan</td>\n",
       "      <td>https://reliefweb.int/report/afghanistan/afgha...</td>\n",
       "    </tr>\n",
       "    <tr>\n",
       "      <th>3</th>\n",
       "      <td>Afghanistan</td>\n",
       "      <td>AFG</td>\n",
       "      <td>2021-02-25</td>\n",
       "      <td>0.0</td>\n",
       "      <td>0.0</td>\n",
       "      <td>0.0</td>\n",
       "      <td>0.0</td>\n",
       "      <td>1367.0</td>\n",
       "      <td>0.00</td>\n",
       "      <td>0.00</td>\n",
       "      <td>0.00</td>\n",
       "      <td>35.0</td>\n",
       "      <td>Oxford/AstraZeneca</td>\n",
       "      <td>Government of Afghanistan</td>\n",
       "      <td>https://reliefweb.int/report/afghanistan/afgha...</td>\n",
       "    </tr>\n",
       "    <tr>\n",
       "      <th>4</th>\n",
       "      <td>Afghanistan</td>\n",
       "      <td>AFG</td>\n",
       "      <td>2021-02-26</td>\n",
       "      <td>0.0</td>\n",
       "      <td>0.0</td>\n",
       "      <td>0.0</td>\n",
       "      <td>0.0</td>\n",
       "      <td>1367.0</td>\n",
       "      <td>0.00</td>\n",
       "      <td>0.00</td>\n",
       "      <td>0.00</td>\n",
       "      <td>35.0</td>\n",
       "      <td>Oxford/AstraZeneca</td>\n",
       "      <td>Government of Afghanistan</td>\n",
       "      <td>https://reliefweb.int/report/afghanistan/afgha...</td>\n",
       "    </tr>\n",
       "    <tr>\n",
       "      <th>...</th>\n",
       "      <td>...</td>\n",
       "      <td>...</td>\n",
       "      <td>...</td>\n",
       "      <td>...</td>\n",
       "      <td>...</td>\n",
       "      <td>...</td>\n",
       "      <td>...</td>\n",
       "      <td>...</td>\n",
       "      <td>...</td>\n",
       "      <td>...</td>\n",
       "      <td>...</td>\n",
       "      <td>...</td>\n",
       "      <td>...</td>\n",
       "      <td>...</td>\n",
       "      <td>...</td>\n",
       "    </tr>\n",
       "    <tr>\n",
       "      <th>15500</th>\n",
       "      <td>Zimbabwe</td>\n",
       "      <td>ZWE</td>\n",
       "      <td>2021-04-30</td>\n",
       "      <td>500342.0</td>\n",
       "      <td>414735.0</td>\n",
       "      <td>85607.0</td>\n",
       "      <td>22745.0</td>\n",
       "      <td>19194.0</td>\n",
       "      <td>3.37</td>\n",
       "      <td>2.79</td>\n",
       "      <td>0.58</td>\n",
       "      <td>1291.0</td>\n",
       "      <td>Sinopharm/Beijing</td>\n",
       "      <td>Ministry of Health</td>\n",
       "      <td>https://twitter.com/MoHCCZim/status/1389675251...</td>\n",
       "    </tr>\n",
       "    <tr>\n",
       "      <th>15501</th>\n",
       "      <td>Zimbabwe</td>\n",
       "      <td>ZWE</td>\n",
       "      <td>2021-05-01</td>\n",
       "      <td>520299.0</td>\n",
       "      <td>428135.0</td>\n",
       "      <td>92164.0</td>\n",
       "      <td>19957.0</td>\n",
       "      <td>21171.0</td>\n",
       "      <td>3.50</td>\n",
       "      <td>2.88</td>\n",
       "      <td>0.62</td>\n",
       "      <td>1424.0</td>\n",
       "      <td>Sinopharm/Beijing</td>\n",
       "      <td>Ministry of Health</td>\n",
       "      <td>https://twitter.com/MoHCCZim/status/1389675251...</td>\n",
       "    </tr>\n",
       "    <tr>\n",
       "      <th>15502</th>\n",
       "      <td>Zimbabwe</td>\n",
       "      <td>ZWE</td>\n",
       "      <td>2021-05-02</td>\n",
       "      <td>524199.0</td>\n",
       "      <td>430068.0</td>\n",
       "      <td>94131.0</td>\n",
       "      <td>3900.0</td>\n",
       "      <td>19169.0</td>\n",
       "      <td>3.53</td>\n",
       "      <td>2.89</td>\n",
       "      <td>0.63</td>\n",
       "      <td>1290.0</td>\n",
       "      <td>Sinopharm/Beijing</td>\n",
       "      <td>Ministry of Health</td>\n",
       "      <td>https://twitter.com/MoHCCZim/status/1389675251...</td>\n",
       "    </tr>\n",
       "    <tr>\n",
       "      <th>15503</th>\n",
       "      <td>Zimbabwe</td>\n",
       "      <td>ZWE</td>\n",
       "      <td>2021-05-03</td>\n",
       "      <td>537516.0</td>\n",
       "      <td>437751.0</td>\n",
       "      <td>99765.0</td>\n",
       "      <td>13317.0</td>\n",
       "      <td>17987.0</td>\n",
       "      <td>3.62</td>\n",
       "      <td>2.95</td>\n",
       "      <td>0.67</td>\n",
       "      <td>1210.0</td>\n",
       "      <td>Sinopharm/Beijing</td>\n",
       "      <td>Ministry of Health</td>\n",
       "      <td>https://twitter.com/MoHCCZim/status/1389675251...</td>\n",
       "    </tr>\n",
       "    <tr>\n",
       "      <th>15504</th>\n",
       "      <td>Zimbabwe</td>\n",
       "      <td>ZWE</td>\n",
       "      <td>2021-05-04</td>\n",
       "      <td>559777.0</td>\n",
       "      <td>452191.0</td>\n",
       "      <td>107586.0</td>\n",
       "      <td>22261.0</td>\n",
       "      <td>17977.0</td>\n",
       "      <td>3.77</td>\n",
       "      <td>3.04</td>\n",
       "      <td>0.72</td>\n",
       "      <td>1210.0</td>\n",
       "      <td>Sinopharm/Beijing</td>\n",
       "      <td>Ministry of Health</td>\n",
       "      <td>https://twitter.com/MoHCCZim/status/1389675251...</td>\n",
       "    </tr>\n",
       "  </tbody>\n",
       "</table>\n",
       "<p>15505 rows × 15 columns</p>\n",
       "</div>"
      ],
      "text/plain": [
       "           country iso_code        date  total_vaccinations  \\\n",
       "0      Afghanistan      AFG  2021-02-22                 0.0   \n",
       "1      Afghanistan      AFG  2021-02-23                 0.0   \n",
       "2      Afghanistan      AFG  2021-02-24                 0.0   \n",
       "3      Afghanistan      AFG  2021-02-25                 0.0   \n",
       "4      Afghanistan      AFG  2021-02-26                 0.0   \n",
       "...            ...      ...         ...                 ...   \n",
       "15500     Zimbabwe      ZWE  2021-04-30            500342.0   \n",
       "15501     Zimbabwe      ZWE  2021-05-01            520299.0   \n",
       "15502     Zimbabwe      ZWE  2021-05-02            524199.0   \n",
       "15503     Zimbabwe      ZWE  2021-05-03            537516.0   \n",
       "15504     Zimbabwe      ZWE  2021-05-04            559777.0   \n",
       "\n",
       "       people_vaccinated  people_fully_vaccinated  daily_vaccinations_raw  \\\n",
       "0                    0.0                      0.0                     0.0   \n",
       "1                    0.0                      0.0                     0.0   \n",
       "2                    0.0                      0.0                     0.0   \n",
       "3                    0.0                      0.0                     0.0   \n",
       "4                    0.0                      0.0                     0.0   \n",
       "...                  ...                      ...                     ...   \n",
       "15500           414735.0                  85607.0                 22745.0   \n",
       "15501           428135.0                  92164.0                 19957.0   \n",
       "15502           430068.0                  94131.0                  3900.0   \n",
       "15503           437751.0                  99765.0                 13317.0   \n",
       "15504           452191.0                 107586.0                 22261.0   \n",
       "\n",
       "       daily_vaccinations  total_vaccinations_per_hundred  \\\n",
       "0                     0.0                            0.00   \n",
       "1                  1367.0                            0.00   \n",
       "2                  1367.0                            0.00   \n",
       "3                  1367.0                            0.00   \n",
       "4                  1367.0                            0.00   \n",
       "...                   ...                             ...   \n",
       "15500             19194.0                            3.37   \n",
       "15501             21171.0                            3.50   \n",
       "15502             19169.0                            3.53   \n",
       "15503             17987.0                            3.62   \n",
       "15504             17977.0                            3.77   \n",
       "\n",
       "       people_vaccinated_per_hundred  people_fully_vaccinated_per_hundred  \\\n",
       "0                               0.00                                 0.00   \n",
       "1                               0.00                                 0.00   \n",
       "2                               0.00                                 0.00   \n",
       "3                               0.00                                 0.00   \n",
       "4                               0.00                                 0.00   \n",
       "...                              ...                                  ...   \n",
       "15500                           2.79                                 0.58   \n",
       "15501                           2.88                                 0.62   \n",
       "15502                           2.89                                 0.63   \n",
       "15503                           2.95                                 0.67   \n",
       "15504                           3.04                                 0.72   \n",
       "\n",
       "       daily_vaccinations_per_million            vaccines  \\\n",
       "0                                 0.0  Oxford/AstraZeneca   \n",
       "1                                35.0  Oxford/AstraZeneca   \n",
       "2                                35.0  Oxford/AstraZeneca   \n",
       "3                                35.0  Oxford/AstraZeneca   \n",
       "4                                35.0  Oxford/AstraZeneca   \n",
       "...                               ...                 ...   \n",
       "15500                          1291.0   Sinopharm/Beijing   \n",
       "15501                          1424.0   Sinopharm/Beijing   \n",
       "15502                          1290.0   Sinopharm/Beijing   \n",
       "15503                          1210.0   Sinopharm/Beijing   \n",
       "15504                          1210.0   Sinopharm/Beijing   \n",
       "\n",
       "                     source_name  \\\n",
       "0      Government of Afghanistan   \n",
       "1      Government of Afghanistan   \n",
       "2      Government of Afghanistan   \n",
       "3      Government of Afghanistan   \n",
       "4      Government of Afghanistan   \n",
       "...                          ...   \n",
       "15500         Ministry of Health   \n",
       "15501         Ministry of Health   \n",
       "15502         Ministry of Health   \n",
       "15503         Ministry of Health   \n",
       "15504         Ministry of Health   \n",
       "\n",
       "                                          source_website  \n",
       "0      https://reliefweb.int/report/afghanistan/afgha...  \n",
       "1      https://reliefweb.int/report/afghanistan/afgha...  \n",
       "2      https://reliefweb.int/report/afghanistan/afgha...  \n",
       "3      https://reliefweb.int/report/afghanistan/afgha...  \n",
       "4      https://reliefweb.int/report/afghanistan/afgha...  \n",
       "...                                                  ...  \n",
       "15500  https://twitter.com/MoHCCZim/status/1389675251...  \n",
       "15501  https://twitter.com/MoHCCZim/status/1389675251...  \n",
       "15502  https://twitter.com/MoHCCZim/status/1389675251...  \n",
       "15503  https://twitter.com/MoHCCZim/status/1389675251...  \n",
       "15504  https://twitter.com/MoHCCZim/status/1389675251...  \n",
       "\n",
       "[15505 rows x 15 columns]"
      ]
     },
     "execution_count": 3,
     "metadata": {},
     "output_type": "execute_result"
    }
   ],
   "source": [
    "df"
   ]
  },
  {
   "cell_type": "markdown",
   "metadata": {},
   "source": [
    "## Q1. Total number of people vaccinated in Argentina (Atlease Once)"
   ]
  },
  {
   "cell_type": "code",
   "execution_count": 4,
   "metadata": {},
   "outputs": [
    {
     "name": "stdout",
     "output_type": "stream",
     "text": [
      "Total number of people vaccinated in Argentina is 7261176\n"
     ]
    }
   ],
   "source": [
    "arg=int(df[df['country'] == 'Argentina']['people_vaccinated'].max())\n",
    "\n",
    "print('Total number of people vaccinated in Argentina is',arg)"
   ]
  },
  {
   "cell_type": "code",
   "execution_count": 5,
   "metadata": {},
   "outputs": [
    {
     "data": {
      "text/plain": [
       "7261176.0"
      ]
     },
     "execution_count": 5,
     "metadata": {},
     "output_type": "execute_result"
    }
   ],
   "source": [
    "df_arg=df[df['country'] == 'Argentina']\n",
    "\n",
    "df_arg['people_vaccinated'].max()"
   ]
  },
  {
   "cell_type": "markdown",
   "metadata": {},
   "source": [
    "## Q2. Total number of countries in this dataset"
   ]
  },
  {
   "cell_type": "code",
   "execution_count": 6,
   "metadata": {},
   "outputs": [
    {
     "name": "stdout",
     "output_type": "stream",
     "text": [
      "Total number of countries in this dataset is 195\n"
     ]
    }
   ],
   "source": [
    "print('Total number of countries in this dataset is',len(df['country'].unique()))"
   ]
  },
  {
   "cell_type": "markdown",
   "metadata": {},
   "source": [
    "## Q3. Maximum number of people vaccinated in a country"
   ]
  },
  {
   "cell_type": "code",
   "execution_count": 7,
   "metadata": {},
   "outputs": [
    {
     "data": {
      "text/plain": [
       "country\n",
       "United States    148562891.0\n",
       "Name: people_vaccinated, dtype: float64"
      ]
     },
     "execution_count": 7,
     "metadata": {},
     "output_type": "execute_result"
    }
   ],
   "source": [
    "df.groupby('country').max()['people_vaccinated'].sort_values(ascending = False).head(1)"
   ]
  },
  {
   "cell_type": "markdown",
   "metadata": {},
   "source": [
    "## Q4. Top 5 Countries in terms of number of people vaccinated"
   ]
  },
  {
   "cell_type": "code",
   "execution_count": 8,
   "metadata": {},
   "outputs": [
    {
     "data": {
      "text/plain": [
       "country\n",
       "United States     148562891.0\n",
       "India             129730641.0\n",
       "United Kingdom     34795074.0\n",
       "Brazil             30921100.0\n",
       "England            29124310.0\n",
       "Name: people_vaccinated, dtype: float64"
      ]
     },
     "execution_count": 8,
     "metadata": {},
     "output_type": "execute_result"
    }
   ],
   "source": [
    "df.groupby('country').max()['people_vaccinated'].sort_values(ascending = False).head()"
   ]
  },
  {
   "cell_type": "code",
   "execution_count": 9,
   "metadata": {},
   "outputs": [
    {
     "data": {
      "text/plain": [
       "Text(0.5, 1.0, 'Top 5 Countries in terms of number of people vaccinated')"
      ]
     },
     "execution_count": 9,
     "metadata": {},
     "output_type": "execute_result"
    },
    {
     "data": {
      "image/png": "[encoded data removed]",
      "text/plain": [
       "<Figure size 576x432 with 1 Axes>"
      ]
     },
     "metadata": {
      "needs_background": "light"
     },
     "output_type": "display_data"
    }
   ],
   "source": [
    "df.groupby('country').max()['people_vaccinated'].sort_values(ascending = False).head().plot.bar(figsize=(8,6))\n",
    "plt.title('Top 5 Countries in terms of number of people vaccinated')"
   ]
  },
  {
   "cell_type": "code",
   "execution_count": null,
   "metadata": {},
   "outputs": [],
   "source": []
  }
 ],
 "metadata": {
  "kernelspec": {
   "display_name": "Python 3",
   "language": "python",
   "name": "python3"
  },
  "language_info": {
   "codemirror_mode": {
    "name": "ipython",
    "version": 3
   },
   "file_extension": ".py",
   "mimetype": "text/x-python",
   "name": "python",
   "nbconvert_exporter": "python",
   "pygments_lexer": "ipython3",
   "version": "3.8.8"
  }
 },
 "nbformat": 4,
 "nbformat_minor": 2
}
